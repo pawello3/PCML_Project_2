{
 "cells": [
  {
   "cell_type": "code",
   "execution_count": 1,
   "metadata": {
    "collapsed": false
   },
   "outputs": [],
   "source": [
    "%matplotlib inline\n",
    "import numpy as np\n",
    "import scipy\n",
    "import scipy.io\n",
    "import scipy.sparse as sp\n",
    "import pandas as pd\n",
    "import matplotlib.pyplot as plt\n",
    "import datetime\n",
    "import time\n",
    "%load_ext autoreload\n",
    "%autoreload 2\n",
    "from helpers import *"
   ]
  },
  {
   "cell_type": "code",
   "execution_count": 2,
   "metadata": {
    "collapsed": false
   },
   "outputs": [
    {
     "name": "stdout",
     "output_type": "stream",
     "text": [
      "number of items: 10000, number of users: 1000\n",
      "Shape of ratings matrix: (10000, 1000)\n"
     ]
    }
   ],
   "source": [
    "dataset_file_path = \"data_train.csv\"\n",
    "ratings = load_data(dataset_file_path)\n",
    "print('Shape of ratings matrix:', ratings.shape)"
   ]
  },
  {
   "cell_type": "code",
   "execution_count": 3,
   "metadata": {
    "collapsed": false,
    "scrolled": true
   },
   "outputs": [
    {
     "data": {
      "image/png": "[encoded data removed]",
      "text/plain": [
       "<matplotlib.figure.Figure at 0x7f3f30092978>"
      ]
     },
     "metadata": {},
     "output_type": "display_data"
    },
    {
     "name": "stdout",
     "output_type": "stream",
     "text": [
      "min # of items per user = 8, min # of users per item = 3.\n"
     ]
    }
   ],
   "source": [
    "from plots import plot_raw_data\n",
    "\n",
    "num_items_per_user, num_users_per_item = plot_raw_data(ratings)\n",
    "\n",
    "print(\"min # of items per user = {}, min # of users per item = {}.\".format(\n",
    "        min(num_items_per_user), min(num_users_per_item)))"
   ]
  },
  {
   "cell_type": "code",
   "execution_count": 4,
   "metadata": {
    "collapsed": false
   },
   "outputs": [],
   "source": [
    "def init_MF_random(train, num_features):\n",
    "    \"\"\"\n",
    "        Initialize randomly the matrices W and Z of matrix factorization.\n",
    "\n",
    "        Arguments:\n",
    "            train: training set (matrix X)\n",
    "            num_features: number of latent variables in the W*Z^T decomposition\n",
    "\n",
    "        Returned value(s):\n",
    "            item_features: matrix W of shape = num_features, num_item\n",
    "            user_features: matrix Z of shape = num_features, num_user\n",
    "    \"\"\"\n",
    "    \n",
    "    item_features = np.random.random((train.shape[0],num_features)) # W matrix initialization\n",
    "    user_features = np.random.random((train.shape[1],num_features)) # Z matrix initialization\n",
    "    \n",
    "    return item_features, user_features"
   ]
  },
  {
   "cell_type": "code",
   "execution_count": 5,
   "metadata": {
    "collapsed": false
   },
   "outputs": [],
   "source": [
    "# define parameters\n",
    "num_features = 50 # number of latent features in matrix factorization\n",
    "lambda_item = 0.0 # regularization parameter for item features\n",
    "lambda_user = 0.0 # regularization parameter for user features\n",
    "num_epochs = 20 # number of iterations of ALS\n",
    "\n",
    "# set random seed\n",
    "np.random.seed(988)\n",
    "\n",
    "# initialize matrices W and Z\n",
    "item_features, user_features = init_MF_random(ratings, num_features)\n",
    "\n",
    "def nonzero_indices(matrix):\n",
    "    nz_row, nz_col = matrix.nonzero()\n",
    "    return list(zip(nz_row, nz_col))\n",
    "\n",
    "# find the non-zero ratings indices in the training set\n",
    "nonzero_indices = nonzero_indices(ratings)\n",
    "\n",
    "# initialize matrices used to compute RMSE\n",
    "train_label = np.zeros(len(nonzero_indices))\n",
    "prediction_label = np.zeros(len(nonzero_indices))\n",
    "\n",
    "# initialize accumulator for RMSE of every iteration\n",
    "rmse_train = np.zeros(num_epochs)"
   ]
  },
  {
   "cell_type": "code",
   "execution_count": 6,
   "metadata": {
    "collapsed": false
   },
   "outputs": [],
   "source": [
    "def compute_ALS(ratings, nonzero_indices, item_features, user_features, num_features, num_epochs):\n",
    "    lambda_user_diag = np.identity(num_features)\n",
    "    np.fill_diagonal(lambda_user_diag, lambda_user)\n",
    "    lambda_item_diag = np.identity(num_features)\n",
    "    np.fill_diagonal(lambda_item_diag, lambda_user)\n",
    "    \n",
    "    for it in range(num_epochs):\n",
    "        begin = datetime.datetime.now() # start time measurement\n",
    "        \n",
    "        print(\"Epoch:\", it)\n",
    "\n",
    "        # perform one iteteration of the algorithm\n",
    "        \n",
    "        # first fix item features: Z^T = (W^T*W + (lambda_z*I_K)^(-1)*W^T*X)\n",
    "        user_features = (np.linalg.inv(item_features.T.dot(item_features) + lambda_user_diag).dot(item_features.T.dot(ratings))).T\n",
    "        # then fix user features: W^T = (Z^T*Z + (lambda_w*I_K)^(-1)*Z^T*X^T)\n",
    "        item_features = (np.linalg.inv(user_features.T.dot(user_features) + lambda_item_diag).dot(user_features.T.dot(ratings.T))).T\n",
    "\n",
    "        # calculate training RMSE\n",
    "        for i in range(len(nonzero_indices)):\n",
    "            train_label[i] = ratings[nonzero_indices[i][0], nonzero_indices[i][1]]\n",
    "            prediction_label[i] = item_features[nonzero_indices[i][0], :].dot(user_features.T[:, nonzero_indices[i][1]])\n",
    "\n",
    "        # store RMSE of current iteration\n",
    "        rmse_train[it] = calculate_mse(train_label, prediction_label)\n",
    "        \n",
    "        print(\"RMSE on training set:\", rmse_train[it])\n",
    "\n",
    "        end = datetime.datetime.now() # stop time measurement\n",
    "        \n",
    "        # compute the time of the iteration\n",
    "        execution_time = (end - begin).total_seconds()\n",
    "        print(\"Execution time:\", execution_time)\n",
    "\n",
    "        print(\"*\" * 50)\n",
    "    \n",
    "    return item_features.dot(user_features.T)"
   ]
  },
  {
   "cell_type": "code",
   "execution_count": 11,
   "metadata": {
    "collapsed": false
   },
   "outputs": [
    {
     "name": "stdout",
     "output_type": "stream",
     "text": [
      "[ 3.37941176  3.50094162  3.48358586  3.93647282  3.55913113]\n",
      "[[ 0.  0.  0.  0.  0.]\n",
      " [ 0.  0.  0.  3.  0.]\n",
      " [ 0.  0.  0.  2.  0.]\n",
      " [ 0.  0.  0.  0.  0.]\n",
      " [ 0.  2.  0.  0.  0.]]\n",
      "[[ 0.          0.          0.          0.          0.        ]\n",
      " [ 0.          0.          0.         -0.93647282  0.        ]\n",
      " [ 0.          0.          0.         -1.93647282  0.        ]\n",
      " [ 0.          0.          0.          0.          0.        ]\n",
      " [ 0.         -1.50094162  0.          0.          0.        ]]\n",
      "Epoch: 0\n",
      "RMSE on training set: 0.94565082971\n",
      "Execution time: 29.519574\n",
      "**************************************************\n",
      "Epoch: 1\n",
      "RMSE on training set: 0.906160232594\n",
      "Execution time: 29.678204\n",
      "**************************************************\n",
      "Epoch: 2\n",
      "RMSE on training set: 0.89673451047\n",
      "Execution time: 30.452674\n",
      "**************************************************\n",
      "Epoch: 3\n",
      "RMSE on training set: 0.893760045092\n",
      "Execution time: 40.520427\n",
      "**************************************************\n",
      "Epoch: 4\n",
      "RMSE on training set: 0.892706393241\n",
      "Execution time: 40.689355\n",
      "**************************************************\n",
      "Epoch: 5\n",
      "RMSE on training set: 0.892330340812\n",
      "Execution time: 40.18169\n",
      "**************************************************\n",
      "Epoch: 6\n",
      "RMSE on training set: 0.892210631127\n",
      "Execution time: 40.036958\n",
      "**************************************************\n",
      "Epoch: 7\n",
      "RMSE on training set: 0.892188338247\n",
      "Execution time: 40.175032\n",
      "**************************************************\n",
      "Epoch: 8\n",
      "RMSE on training set: 0.892201468669\n",
      "Execution time: 40.208072\n",
      "**************************************************\n",
      "Epoch: 9\n",
      "RMSE on training set: 0.892226658421\n",
      "Execution time: 40.337843\n",
      "**************************************************\n",
      "Epoch: 10\n",
      "RMSE on training set: 0.892255876363\n",
      "Execution time: 36.760018\n",
      "**************************************************\n",
      "Epoch: 11\n",
      "RMSE on training set: 0.892286680442\n",
      "Execution time: 29.576552\n",
      "**************************************************\n",
      "Epoch: 12\n",
      "RMSE on training set: 0.892318261749\n",
      "Execution time: 35.367634\n",
      "**************************************************\n",
      "Epoch: 13\n",
      "RMSE on training set: 0.892350027761\n",
      "Execution time: 40.185011\n",
      "**************************************************\n",
      "Epoch: 14\n",
      "RMSE on training set: 0.8923812759\n",
      "Execution time: 40.314888\n",
      "**************************************************\n",
      "Epoch: 15\n",
      "RMSE on training set: 0.892411274979\n",
      "Execution time: 40.248374\n",
      "**************************************************\n",
      "Epoch: 16\n",
      "RMSE on training set: 0.892439423674\n",
      "Execution time: 40.329623\n",
      "**************************************************\n",
      "Epoch: 17\n",
      "RMSE on training set: 0.892465347858\n",
      "Execution time: 38.873247\n",
      "**************************************************\n",
      "Epoch: 18\n",
      "RMSE on training set: 0.892488912163\n",
      "Execution time: 29.079054\n",
      "**************************************************\n",
      "Epoch: 19\n",
      "RMSE on training set: 0.892510173849\n",
      "Execution time: 29.079704\n",
      "**************************************************\n"
     ]
    }
   ],
   "source": [
    "ratings_dense = scipy.sparse.lil_matrix.todense(ratings)\n",
    "\n",
    "# normalize rows of ratings matrix by substracting mean (bias) rating for each movie\n",
    "v = np.nanmean(np.where(ratings_dense != 0, ratings_dense, np.nan), axis = 0)\n",
    "v = v[:, np.newaxis].T\n",
    "print(v[0,:5])\n",
    "print(ratings_dense[:5, :5])\n",
    "ratings_subst = ratings_dense - v\n",
    "for i, j in nonzero_indices:\n",
    "    ratings_dense[i, j] = ratings_subst[i, j]\n",
    "print(ratings_dense[:5, :5])\n",
    "\n",
    "prediction = compute_ALS(ratings_dense, nonzero_indices, item_features, user_features, num_features, num_epochs)"
   ]
  },
  {
   "cell_type": "code",
   "execution_count": 12,
   "metadata": {
    "collapsed": false,
    "scrolled": true
   },
   "outputs": [
    {
     "data": {
      "text/plain": [
       "[<matplotlib.lines.Line2D at 0x7f3ef16d6080>]"
      ]
     },
     "execution_count": 12,
     "metadata": {},
     "output_type": "execute_result"
    },
    {
     "data": {
      "image/png": "[encoded data removed]",
      "text/plain": [
       "<matplotlib.figure.Figure at 0x7f3f007d2c18>"
      ]
     },
     "metadata": {},
     "output_type": "display_data"
    }
   ],
   "source": [
    "plt.plot(rmse_train[:10])"
   ]
  },
  {
   "cell_type": "code",
   "execution_count": 15,
   "metadata": {
    "collapsed": false
   },
   "outputs": [],
   "source": [
    "def create_csv_submission(prediction, submission_file_path = \"submission.csv\"):\n",
    "    \"\"\"\n",
    "        Creates an output file in csv format for submission to kaggle.\n",
    "\n",
    "        Arguments:\n",
    "            prediction: matrix W * Z^T\n",
    "            submission_file_path: string name of .csv output file to be created\n",
    "    \"\"\"\n",
    "\n",
    "    dataset_file_path = \"sampleSubmission.csv\" # file path to the dataset of the entries to be predicted\n",
    "    sample_ratings = load_data(dataset_file_path)\n",
    "    \n",
    "    # find the non-zero ratings indices \n",
    "    nz_row_sr, nz_col_sr = sample_ratings.nonzero()\n",
    "    nz_sr = list(zip(nz_row_sr, nz_col_sr))\n",
    "    \n",
    "    submission_file_path = time.strftime(\"%Y%m%d_%H%M\") + \" \" + submission_file_path\n",
    "    with open(submission_file_path, 'w') as csvfile:\n",
    "        fieldnames = ['Id', 'Prediction']\n",
    "        writer = csv.DictWriter(csvfile, delimiter=\",\", fieldnames=fieldnames)\n",
    "        writer.writeheader()\n",
    "        for i, j in nz_sr:\n",
    "            writer.writerow({'Id' : 'r' + str(i + 1) + '_' + 'c' + str(j + 1),\n",
    "                             'Prediction' : str(prediction[i, j])})"
   ]
  },
  {
   "cell_type": "code",
   "execution_count": 14,
   "metadata": {
    "collapsed": false
   },
   "outputs": [
    {
     "name": "stdout",
     "output_type": "stream",
     "text": [
      "number of items: 1000, number of users: 1000\n"
     ]
    }
   ],
   "source": [
    "# denormalize rows of ratings matrix by adding back mean (bias) rating for each movie\n",
    "prediction_added = prediction + v\n",
    "for i, j in nonzero_indices:\n",
    "    prediction[i, j] = prediction_added[i, j]\n",
    "\n",
    "create_csv_submission(prediction)"
   ]
  },
  {
   "cell_type": "code",
   "execution_count": 18,
   "metadata": {
    "collapsed": false
   },
   "outputs": [
    {
     "data": {
      "text/plain": [
       "matrix([[ 0.        ,  0.        ,  0.        ,  0.        ,  0.        ,\n",
       "          0.        ,  0.        ,  0.        ,  0.        ,  1.3539283 ],\n",
       "        [ 0.        ,  0.        ,  0.        , -0.93647282,  0.        ,\n",
       "          0.31723027,  0.        ,  0.12250294,  0.        ,  0.        ],\n",
       "        [ 0.        ,  0.        ,  0.        , -1.93647282,  0.        ,\n",
       "          0.        ,  0.        ,  0.        ,  0.        ,  0.        ],\n",
       "        [ 0.        ,  0.        ,  0.        ,  0.        ,  0.        ,\n",
       "          0.        ,  0.        ,  0.        ,  0.        ,  0.        ],\n",
       "        [ 0.        , -1.50094162,  0.        ,  0.        ,  0.        ,\n",
       "          0.31723027,  0.        , -0.87749706,  0.        ,  0.        ],\n",
       "        [ 0.        ,  0.        ,  0.        ,  0.        ,  0.        ,\n",
       "          0.31723027,  0.        ,  0.        ,  0.        ,  0.        ],\n",
       "        [ 0.        ,  0.        ,  0.        ,  0.        ,  0.        ,\n",
       "          0.        ,  0.        ,  0.        ,  0.        ,  0.        ],\n",
       "        [ 0.        ,  0.        ,  0.        ,  0.        ,  0.        ,\n",
       "          0.        ,  0.        ,  0.        ,  0.        ,  0.        ],\n",
       "        [ 0.        ,  0.        ,  0.        ,  0.        ,  0.        ,\n",
       "          0.31723027,  0.        ,  0.        ,  0.        , -0.6460717 ],\n",
       "        [ 0.        ,  0.        ,  0.        , -2.93647282,  0.        ,\n",
       "          0.31723027,  0.        ,  1.12250294,  0.        ,  0.        ]])"
      ]
     },
     "execution_count": 18,
     "metadata": {},
     "output_type": "execute_result"
    }
   ],
   "source": [
    "ratings_dense[:10,:10]"
   ]
  },
  {
   "cell_type": "code",
   "execution_count": null,
   "metadata": {
    "collapsed": true
   },
   "outputs": [],
   "source": []
  }
 ],
 "metadata": {
  "anaconda-cloud": {},
  "kernelspec": {
   "display_name": "Python [Root]",
   "language": "python",
   "name": "Python [Root]"
  },
  "language_info": {
   "codemirror_mode": {
    "name": "ipython",
    "version": 3
   },
   "file_extension": ".py",
   "mimetype": "text/x-python",
   "name": "python",
   "nbconvert_exporter": "python",
   "pygments_lexer": "ipython3",
   "version": "3.5.2"
  }
 },
 "nbformat": 4,
 "nbformat_minor": 1
}
