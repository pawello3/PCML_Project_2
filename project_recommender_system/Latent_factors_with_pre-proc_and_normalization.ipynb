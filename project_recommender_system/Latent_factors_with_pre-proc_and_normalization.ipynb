{
 "cells": [
  {
   "cell_type": "code",
   "execution_count": null,
   "metadata": {
    "collapsed": true
   },
   "outputs": [],
   "source": [
    "%matplotlib inline\n",
    "import numpy as np\n",
    "import scipy\n",
    "import scipy.io\n",
    "import scipy.sparse as sp\n",
    "import pandas as pd\n",
    "import matplotlib.pyplot as plt\n",
    "import datetime\n",
    "%load_ext autoreload\n",
    "%autoreload 2\n",
    "from helpers import *\n",
    "from numba import jit"
   ]
  },
  {
   "cell_type": "code",
   "execution_count": null,
   "metadata": {
    "collapsed": true
   },
   "outputs": [],
   "source": [
    "path_dataset = \"data_train.csv\"\n",
    "ratings0 = load_data(path_dataset)\n",
    "print('Shape of ratings matrix:',ratings.shape)"
   ]
  },
  {
   "cell_type": "code",
   "execution_count": null,
   "metadata": {
    "collapsed": true
   },
   "outputs": [],
   "source": [
    "from plots import plot_raw_data\n",
    "\n",
    "num_items_per_user, num_users_per_item = plot_raw_data(ratings)\n",
    "\n",
    "print(\"min # of items per user = {}, min # of users per item = {}.\".format(\n",
    "        min(num_items_per_user), min(num_users_per_item)))"
   ]
  },
  {
   "cell_type": "code",
   "execution_count": null,
   "metadata": {
    "collapsed": true
   },
   "outputs": [],
   "source": [
    "def init_MF_random(train, num_features):\n",
    "    \"\"\"init the parameter for matrix factorization.\"\"\"\n",
    "    \n",
    "    #     to be returned:\n",
    "    #     user_features: shape = num_features, num_user\n",
    "    #     item_features: shape = num_features, num_item\n",
    "    \n",
    "    \n",
    "    item_features = np.random.random((train.shape[0],num_features))  # W matrix initialization\n",
    "    user_features = np.random.random((train.shape[1],num_features)) # Z matrix initialization\n",
    "    \n",
    "    return user_features, item_features"
   ]
  },
  {
   "cell_type": "code",
   "execution_count": null,
   "metadata": {
    "collapsed": true
   },
   "outputs": [],
   "source": [
    "def init_MF(train, num_features):\n",
    "    \"\"\"init the parameter for matrix factorization.\"\"\"\n",
    "    \n",
    "    #     to be returned:\n",
    "    #     user_features: shape = num_features, num_user\n",
    "    #     item_features: shape = num_features, num_item\n",
    "    \n",
    "    train_svd = np.zeros(train.shape)\n",
    "    for i in range(train.shape[0]):\n",
    "        for j in range(train.shape[1]):\n",
    "            train_svd[i,j] = train[i,j]\n",
    "    \n",
    "    U, s, V = np.linalg.svd(train_svd, full_matrices=False)\n",
    "    \n",
    "    S = np.diag(s)\n",
    "\n",
    "    U_1 = U[:,0:num_features]\n",
    "    S_1 = S[0:num_features, 0:num_features]\n",
    "    V_1 = V[0:num_features, :]\n",
    "    \n",
    "    item_features = U_1 # W matrix of the decomposition\n",
    "    user_features = (S_1.dot(V_1) ).T # Z matrix of the decomposition\n",
    "    \n",
    "    \n",
    "    #raise NotImplementedError\n",
    "    \n",
    "    return user_features, item_features"
   ]
  },
  {
   "cell_type": "code",
   "execution_count": null,
   "metadata": {
    "collapsed": true
   },
   "outputs": [],
   "source": [
    "# define parameters\n",
    "gamma = 0.000020\n",
    "num_features = 50   # K in the lecture notes\n",
    "lambda_user = 0.0\n",
    "lambda_item = 0.0\n",
    "num_epochs = 50     # number of full passes through the train set\n",
    "errors = [0]\n",
    "\n",
    "# set seed\n",
    "np.random.seed(988)\n",
    "\n",
    "train = ratings\n",
    "\n",
    "# init matrix\n",
    "user_features, item_features = init_MF_random(train, num_features)\n",
    "\n",
    "# find the non-zero ratings indices \n",
    "nz_row, nz_col = train.nonzero()\n",
    "nz_train = list(zip(nz_row, nz_col))"
   ]
  },
  {
   "cell_type": "code",
   "execution_count": null,
   "metadata": {
    "collapsed": true
   },
   "outputs": [],
   "source": [
    "real_train_label = np.zeros(len(nz_train))\n",
    "prediction_train = np.zeros(len(nz_train))\n",
    "rmse_train = np.zeros(num_epochs)\n",
    "\n",
    "for it in range(num_epochs): \n",
    "    \n",
    "    print('Iteration sankhya',it,'haazir hoooooo!!!')\n",
    "    # shuffle the training rating indices\n",
    "    np.random.shuffle(nz_train)\n",
    "\n",
    "    # decrease step size\n",
    "    # gamma /= 1.2\n",
    "    count = 0\n",
    "    mat_pred = np.dot(item_features,user_features.T)\n",
    "    begin = datetime.datetime.now()\n",
    "    print('beginning step 1')\n",
    "    count = 0\n",
    "    for d,n in nz_train:\n",
    "        \n",
    "        if count%100000 == 0:\n",
    "            print(count)\n",
    "            \n",
    "        difference = train[d,n] - mat_pred[d,n]\n",
    "        \n",
    "        # Updating the W\n",
    "        \n",
    "        gradient1 = -1* (difference) * user_features[n,:]\n",
    "        item_features[d,:] = item_features[d,:] - gamma * gradient1\n",
    "        \n",
    "\n",
    "        # Updating the Z\n",
    "        \n",
    "        gradient2 = -1* (difference) * item_features[d,:]\n",
    "        user_features[n,:] = user_features[n,:] - gamma * gradient2\n",
    "        \n",
    "        count += 1\n",
    "            \n",
    "    mat_pred = np.dot(item_features,user_features.T)\n",
    "    print('beginning step 2')\n",
    "    \n",
    "    #Calculating training rmse\n",
    "    for i in range(len(nz_train)):\n",
    "        real_train_label[i] = train[nz_train[i][0],nz_train[i][1]]\n",
    "        prediction_train[i] = mat_pred[nz_train[i][0],nz_train[i][1]]\n",
    "        \n",
    "    \n",
    "    \n",
    "    rmse_train[it] = calculate_mse(real_train_label, prediction_train) \n",
    "    \n",
    "    rmse = rmse_train[it]\n",
    "    \n",
    "    print(\"iter: {}, RMSE on training set: {}.\".format(it, rmse))\n",
    "    end = datetime.datetime.now()\n",
    "    execution_time = (end - begin).total_seconds()\n",
    "    print(execution_time)"
   ]
  }
 ],
 "metadata": {
  "anaconda-cloud": {},
  "kernelspec": {
   "display_name": "Python [default]",
   "language": "python",
   "name": "python3"
  },
  "language_info": {
   "codemirror_mode": {
    "name": "ipython",
    "version": 3
   },
   "file_extension": ".py",
   "mimetype": "text/x-python",
   "name": "python",
   "nbconvert_exporter": "python",
   "pygments_lexer": "ipython3",
   "version": "3.5.2"
  }
 },
 "nbformat": 4,
 "nbformat_minor": 1
}
